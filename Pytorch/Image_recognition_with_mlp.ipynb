{
 "cells": [
  {
   "cell_type": "code",
   "execution_count": 49,
   "metadata": {},
   "outputs": [],
   "source": [
    "import torch\n",
    "from torch import nn, optim\n",
    "import torch.nn.functional as F\n",
    "import matplotlib.pyplot as plt\n",
    "import numpy as np\n",
    "from torchvision import datasets, transforms\n",
    "from tqdm import tqdm"
   ]
  },
  {
   "cell_type": "code",
   "execution_count": 8,
   "metadata": {},
   "outputs": [],
   "source": [
    "# 데이터 셋을 받을 때 transform할 조건을 설정합니다.\n",
    "mean = 0.5\n",
    "sigma = 0.5\n",
    "transform = transforms.Compose([transforms.ToTensor(), # 데이터를 불러 올 때 Tensor 타입으로 불러옵니다.  \n",
    "                                 transforms.Normalize([mean], [sigma]) # 앞의 괄호는 평균, 뒤의 괄호는 표준편차이며 세 차원 모두 적용\n",
    "                                ])\n",
    "# root경로에 train 데이터를 다운 받습니다. 이 때 조건은 transform 조건에 따라 Tensor 타입과 Normalize가 된 상태로 받습니다.\n",
    "training_dataset = datasets.FashionMNIST(root=\"./data\", train=True, download=True, transform=transform)\n",
    "validation_dataset = datasets.FashionMNIST(root=\"./data\", train=False, download=True, transform=transform)\n",
    "\n",
    "# Dataloader를 정의합니다. Dataloader에서는 batch size와 shuffle을 세팅해줍니다.\n",
    "training_loader = torch.utils.data.DataLoader(dataset=training_dataset, batch_size=100, shuffle=True)\n",
    "validation_loader = torch.utils.data.DataLoader(dataset=validation_dataset, batch_size=100, shuffle=False)"
   ]
  },
  {
   "cell_type": "code",
   "execution_count": 9,
   "metadata": {},
   "outputs": [],
   "source": [
    "# Tensor 형태의 이미지 데이터를 원래 데이터로 바꿉니다.\n",
    "def imgConvert(tensor):\n",
    "    # tensor를 복사하고 그래프와 독립적으로 분리한 다음 numpy로 변형합니다.\n",
    "    image = tensor.clone().detach().numpy()\n",
    "    # Pytorch에서 제공하는 (H, W, C) 순서의 차원을 (H, W, C)로 변경합니다.\n",
    "    image = image.transpose(1, 2, 0)\n",
    "    # Normalize한 이미지 데이터를 원상 복귀 합니다.\n",
    "    image = image * sigma + mean\n",
    "    # 이미지의 범위를 0과 1 사이로 고정시킵니다.\n",
    "    image = image.clip(0, 1)\n",
    "    return image  "
   ]
  },
  {
   "cell_type": "code",
   "execution_count": 10,
   "metadata": {},
   "outputs": [
    {
     "name": "stdout",
     "output_type": "stream",
     "text": [
      "torch.Size([100, 1, 28, 28])\n"
     ]
    }
   ],
   "source": [
    "dataiter = iter(training_loader)\n",
    "images, labels = dataiter.next()\n",
    "print(images.shape)"
   ]
  },
  {
   "cell_type": "code",
   "execution_count": 50,
   "metadata": {},
   "outputs": [],
   "source": [
    "# Neural Network Class\n",
    "class Classifier(nn.Module):\n",
    "    def __init__(self, D_in, H1, H2, D_out):\n",
    "        super().__init__()\n",
    "        self.linear1 = nn.Linear(D_in, H1)\n",
    "        self.linear2 = nn.Linear(H1, H2)\n",
    "        self.linear3 = nn.Linear(H2, D_out)\n",
    "    \n",
    "    def forward(self, x):\n",
    "        x = F.relu(self.linear1(x))\n",
    "        x = F.relu(self.linear2(x))\n",
    "        x = self.linear3(x)\n",
    "        return x     "
   ]
  },
  {
   "cell_type": "code",
   "execution_count": 51,
   "metadata": {},
   "outputs": [],
   "source": [
    "model = Classifier(784, 125, 65, 10)"
   ]
  },
  {
   "cell_type": "code",
   "execution_count": 52,
   "metadata": {},
   "outputs": [],
   "source": [
    "loss_func = nn.CrossEntropyLoss()"
   ]
  },
  {
   "cell_type": "code",
   "execution_count": 53,
   "metadata": {},
   "outputs": [],
   "source": [
    "optimizer = optim.Adam(model.parameters(), lr=0.001)"
   ]
  },
  {
   "cell_type": "code",
   "execution_count": 54,
   "metadata": {},
   "outputs": [],
   "source": [
    "epochs = 12\n",
    "# 학습 데이터의 loss를 저장\n",
    "running_loss_history = []\n",
    "# 학습 데이터의 accuracy를 저장\n",
    "running_corrects_history = []\n",
    "# 평가 데이터의 loss를 저장\n",
    "val_running_loss_history = []\n",
    "# 평가 데이터의 accuracy를 저장\n",
    "val_running_corrects_history = []"
   ]
  },
  {
   "cell_type": "code",
   "execution_count": 55,
   "metadata": {},
   "outputs": [
    {
     "name": "stderr",
     "output_type": "stream",
     "text": [
      "\r",
      "  0%|                                                                        | 0/12 [00:00<?, ?it/s]"
     ]
    },
    {
     "name": "stdout",
     "output_type": "stream",
     "text": [
      "training loss : 0.537915, acc : 80.000000, validation loss : 0.439152, acc : 84.000000\n"
     ]
    },
    {
     "name": "stderr",
     "output_type": "stream",
     "text": [
      "\r",
      "  8%|█████▎                                                          | 1/12 [00:25<04:43, 25.79s/it]"
     ]
    },
    {
     "name": "stdout",
     "output_type": "stream",
     "text": [
      "training loss : 0.390549, acc : 85.000000, validation loss : 0.405058, acc : 84.000000\n"
     ]
    },
    {
     "name": "stderr",
     "output_type": "stream",
     "text": [
      "\r",
      " 17%|██████████▋                                                     | 2/12 [00:51<04:17, 25.78s/it]"
     ]
    },
    {
     "name": "stdout",
     "output_type": "stream",
     "text": [
      "training loss : 0.351841, acc : 87.000000, validation loss : 0.379083, acc : 86.000000\n"
     ]
    },
    {
     "name": "stderr",
     "output_type": "stream",
     "text": [
      "\r",
      " 25%|████████████████                                                | 3/12 [01:17<03:52, 25.83s/it]"
     ]
    },
    {
     "name": "stdout",
     "output_type": "stream",
     "text": [
      "training loss : 0.323910, acc : 88.000000, validation loss : 0.372411, acc : 86.000000\n"
     ]
    },
    {
     "name": "stderr",
     "output_type": "stream",
     "text": [
      "\r",
      " 33%|█████████████████████▎                                          | 4/12 [01:45<03:32, 26.52s/it]"
     ]
    },
    {
     "name": "stdout",
     "output_type": "stream",
     "text": [
      "training loss : 0.306255, acc : 88.000000, validation loss : 0.359574, acc : 87.000000\n"
     ]
    },
    {
     "name": "stderr",
     "output_type": "stream",
     "text": [
      "\r",
      " 42%|██████████████████████████▋                                     | 5/12 [02:13<03:08, 26.90s/it]"
     ]
    },
    {
     "name": "stdout",
     "output_type": "stream",
     "text": [
      "training loss : 0.290453, acc : 89.000000, validation loss : 0.347583, acc : 87.000000\n"
     ]
    },
    {
     "name": "stderr",
     "output_type": "stream",
     "text": [
      "\r",
      " 50%|████████████████████████████████                                | 6/12 [02:41<02:42, 27.16s/it]"
     ]
    },
    {
     "name": "stdout",
     "output_type": "stream",
     "text": [
      "training loss : 0.278987, acc : 89.000000, validation loss : 0.364252, acc : 87.000000\n"
     ]
    },
    {
     "name": "stderr",
     "output_type": "stream",
     "text": [
      "\r",
      " 58%|█████████████████████████████████████▎                          | 7/12 [03:08<02:16, 27.36s/it]"
     ]
    },
    {
     "name": "stdout",
     "output_type": "stream",
     "text": [
      "training loss : 0.265546, acc : 90.000000, validation loss : 0.361527, acc : 87.000000\n"
     ]
    },
    {
     "name": "stderr",
     "output_type": "stream",
     "text": [
      "\r",
      " 67%|██████████████████████████████████████████▋                     | 8/12 [03:37<01:50, 27.60s/it]"
     ]
    },
    {
     "name": "stdout",
     "output_type": "stream",
     "text": [
      "training loss : 0.253707, acc : 90.000000, validation loss : 0.351152, acc : 87.000000\n"
     ]
    },
    {
     "name": "stderr",
     "output_type": "stream",
     "text": [
      "\r",
      " 75%|████████████████████████████████████████████████                | 9/12 [04:05<01:23, 27.69s/it]"
     ]
    },
    {
     "name": "stdout",
     "output_type": "stream",
     "text": [
      "training loss : 0.246586, acc : 90.000000, validation loss : 0.345108, acc : 88.000000\n"
     ]
    },
    {
     "name": "stderr",
     "output_type": "stream",
     "text": [
      "\r",
      " 83%|████████████████████████████████████████████████████▌          | 10/12 [04:35<00:57, 28.58s/it]"
     ]
    },
    {
     "name": "stdout",
     "output_type": "stream",
     "text": [
      "training loss : 0.233232, acc : 91.000000, validation loss : 0.348979, acc : 87.000000\n"
     ]
    },
    {
     "name": "stderr",
     "output_type": "stream",
     "text": [
      "\r",
      " 92%|█████████████████████████████████████████████████████████▊     | 11/12 [05:05<00:29, 29.09s/it]"
     ]
    },
    {
     "name": "stdout",
     "output_type": "stream",
     "text": [
      "training loss : 0.227960, acc : 91.000000, validation loss : 0.338204, acc : 88.000000\n"
     ]
    },
    {
     "name": "stderr",
     "output_type": "stream",
     "text": [
      "100%|███████████████████████████████████████████████████████████████| 12/12 [05:34<00:00, 28.80s/it]\n"
     ]
    }
   ],
   "source": [
    "for epoch in tqdm(range(epochs)):\n",
    "    running_loss, val_running_loss = 0.0, 0.0\n",
    "    running_corrects, val_running_corrects = 0.0, 0.0\n",
    "    \n",
    "    # 학습 데이터를 batch 단위로 가져와서 학습시킵니다.\n",
    "    for inputs, labels in training_loader:\n",
    "        # (배치사이즈, 1*28*28)로 reshape 합니다.\n",
    "        inputs = inputs.view(inputs.shape[0], -1)\n",
    "        # feedforward\n",
    "        outputs = model(inputs)\n",
    "        # loss를 계산합니다.\n",
    "        loss = loss_func(outputs, labels)\n",
    "        # gradient 초기화\n",
    "        optimizer.zero_grad()\n",
    "        # backpropagation\n",
    "        loss.backward()\n",
    "        # weight update\n",
    "        optimizer.step()\n",
    "        \n",
    "        # output의 각 이미지 별로 class가 가장 큰 값을 가져옵니다.\n",
    "        _, preds = torch.max(outputs, 1)\n",
    "        \n",
    "        # loss를 더해줍니다.\n",
    "        running_loss += loss.item()\n",
    "        # 분류가 잘 된 갯수를 더해줍니다.\n",
    "        running_corrects += torch.sum(preds == labels.data)\n",
    "    \n",
    "    # epoch의 loss를 계산합니다.\n",
    "    epoch_loss = running_loss/len(training_loader)\n",
    "    running_loss_history.append(epoch_loss)\n",
    "    \n",
    "    # epoch의 accuracy를 계산합니다.\n",
    "    epoch_acc = running_corrects/len(training_loader)\n",
    "    running_corrects_history.append(epoch_acc)\n",
    "    \n",
    "    # 평가 데이터를 feedforward할 때에는 gradient가 필요없습니다.\n",
    "    with torch.no_grad():\n",
    "        for val_inputs, val_labels in validation_loader:\n",
    "            # training 과정과 유사하나 학습이 필요없으므로 backprob하고 weight 업데이트 하는 과정이 없습니다.\n",
    "            val_inputs = val_inputs.view(val_inputs.shape[0], -1)\n",
    "            val_outputs = model(val_inputs)\n",
    "            val_loss = loss_func(val_outputs, val_labels)\n",
    "            \n",
    "            _, val_preds = torch.max(val_outputs, 1)\n",
    "            \n",
    "            val_running_loss += val_loss.item()\n",
    "            val_running_corrects += torch.sum(val_preds==val_labels.data)\n",
    "    \n",
    "    # 평가 데이터의 loss와 accuracy를 저장해줍니다.\n",
    "    val_epoch_loss = val_running_loss / len(validation_loader)\n",
    "    val_running_loss_history.append(val_epoch_loss)\n",
    "    \n",
    "    val_epoch_acc = val_running_corrects / len(validation_loader)\n",
    "    val_running_corrects_history.append(val_epoch_acc)\n",
    "    \n",
    "    # 매 epoch의 학습과 평가가 끝났으면 결과를 출력해줍니다.\n",
    "    print('training loss : {:4f}, acc : {:4f}, validation loss : {:4f}, acc : {:4f}'.format(\n",
    "        epoch_loss, epoch_acc, val_epoch_loss, val_epoch_acc))"
   ]
  },
  {
   "cell_type": "code",
   "execution_count": 56,
   "metadata": {},
   "outputs": [
    {
     "data": {
      "text/plain": [
       "<matplotlib.legend.Legend at 0x1961ab27b38>"
      ]
     },
     "execution_count": 56,
     "metadata": {},
     "output_type": "execute_result"
    },
    {
     "data": {
      "image/png": "[encoded data removed]",
      "text/plain": [
       "<Figure size 432x288 with 1 Axes>"
      ]
     },
     "metadata": {},
     "output_type": "display_data"
    }
   ],
   "source": [
    "plt.plot(running_loss_history, label='training loss')\n",
    "plt.plot(val_running_loss_history, label='validation loss')\n",
    "plt.legend()"
   ]
  },
  {
   "cell_type": "code",
   "execution_count": 57,
   "metadata": {},
   "outputs": [
    {
     "data": {
      "text/plain": [
       "<matplotlib.legend.Legend at 0x1961a95e780>"
      ]
     },
     "execution_count": 57,
     "metadata": {},
     "output_type": "execute_result"
    },
    {
     "data": {
      "image/png": "[encoded data removed]",
      "text/plain": [
       "<Figure size 432x288 with 1 Axes>"
      ]
     },
     "metadata": {},
     "output_type": "display_data"
    }
   ],
   "source": [
    "plt.plot(running_corrects_history, label='training acc')\n",
    "plt.plot(val_running_corrects_history, label='validation acc')\n",
    "plt.legend()"
   ]
  },
  {
   "cell_type": "code",
   "execution_count": 63,
   "metadata": {},
   "outputs": [
    {
     "name": "stderr",
     "output_type": "stream",
     "text": [
      "C:\\Users\\gauss\\Anaconda3\\envs\\mldl\\lib\\site-packages\\torch\\serialization.py:256: UserWarning: Couldn't retrieve source code for container of type Classifier. It won't be checked for correctness upon loading.\n",
      "  \"type \" + obj.__name__ + \". It won't be checked \"\n"
     ]
    }
   ],
   "source": [
    "# 마지막으로 학습을 완료한 모델을 저장합니다.\n",
    "torch.save(model, 'mlp.pt')"
   ]
  },
  {
   "cell_type": "code",
   "execution_count": 65,
   "metadata": {},
   "outputs": [
    {
     "data": {
      "text/plain": [
       "Classifier(\n",
       "  (linear1): Linear(in_features=784, out_features=125, bias=True)\n",
       "  (linear2): Linear(in_features=125, out_features=65, bias=True)\n",
       "  (linear3): Linear(in_features=65, out_features=10, bias=True)\n",
       ")"
      ]
     },
     "execution_count": 65,
     "metadata": {},
     "output_type": "execute_result"
    }
   ],
   "source": [
    "# 저장한 모델은 다음과 같이 load 할 수 있습니다.\n",
    "model = torch.load('mlp.pt')\n",
    "model.eval()"
   ]
  }
 ],
 "metadata": {
  "kernelspec": {
   "display_name": "Python 3",
   "language": "python",
   "name": "python3"
  },
  "language_info": {
   "codemirror_mode": {
    "name": "ipython",
    "version": 3
   },
   "file_extension": ".py",
   "mimetype": "text/x-python",
   "name": "python",
   "nbconvert_exporter": "python",
   "pygments_lexer": "ipython3",
   "version": "3.5.5"
  },
  "latex_envs": {
   "LaTeX_envs_menu_present": true,
   "autoclose": false,
   "autocomplete": true,
   "bibliofile": "biblio.bib",
   "cite_by": "apalike",
   "current_citInitial": 1,
   "eqLabelWithNumbers": true,
   "eqNumInitial": 1,
   "hotkeys": {
    "equation": "Ctrl-E",
    "itemize": "Ctrl-I"
   },
   "labels_anchors": false,
   "latex_user_defs": false,
   "report_style_numbering": false,
   "user_envs_cfg": false
  },
  "varInspector": {
   "cols": {
    "lenName": 16,
    "lenType": 16,
    "lenVar": 40
   },
   "kernels_config": {
    "python": {
     "delete_cmd_postfix": "",
     "delete_cmd_prefix": "del ",
     "library": "var_list.py",
     "varRefreshCmd": "print(var_dic_list())"
    },
    "r": {
     "delete_cmd_postfix": ") ",
     "delete_cmd_prefix": "rm(",
     "library": "var_list.r",
     "varRefreshCmd": "cat(var_dic_list()) "
    }
   },
   "types_to_exclude": [
    "module",
    "function",
    "builtin_function_or_method",
    "instance",
    "_Feature"
   ],
   "window_display": false
  }
 },
 "nbformat": 4,
 "nbformat_minor": 2
}
