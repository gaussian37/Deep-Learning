{
 "cells": [
  {
   "cell_type": "code",
   "execution_count": 0,
   "metadata": {
    "colab": {},
    "colab_type": "code",
    "id": "FB5x9qC0fFpe"
   },
   "outputs": [],
   "source": [
    "import torch\n",
    "from torch import nn, optim\n",
    "import torch.nn.functional as F\n",
    "import matplotlib.pyplot as plt\n",
    "import numpy as np\n",
    "from torchvision import datasets, transforms\n",
    "from tqdm import tqdm"
   ]
  },
  {
   "cell_type": "code",
   "execution_count": 0,
   "metadata": {
    "colab": {},
    "colab_type": "code",
    "id": "sSAnS70iCbdh"
   },
   "outputs": [],
   "source": [
    "# GPU가 있으면 GPU를 사용하고 없으면 CPU를 사용합니다.\n",
    "device = torch.device(\"cuda:0\" if torch.cuda.torch.cuda.is_available() else \"cpu\")"
   ]
  },
  {
   "cell_type": "code",
   "execution_count": 0,
   "metadata": {
    "colab": {},
    "colab_type": "code",
    "id": "09U7CS7F0gwi"
   },
   "outputs": [],
   "source": [
    "# 데이터 셋을 받을 때 transform할 조건을 설정합니다.\n",
    "mean = 0.5\n",
    "sigma = 0.5\n",
    "\n",
    "transform = transforms.Compose([\n",
    "    transforms.ToTensor(), # 데이터를 불러 올 때 Tensor 타입으로 불러옵니다.\n",
    "    transforms.Normalize((mean,), (sigma,)) # 앞의 괄호는 평균, 뒤의 괄호는 표준편차이며 세 차원 모두 적용\n",
    "])"
   ]
  },
  {
   "cell_type": "code",
   "execution_count": 0,
   "metadata": {
    "colab": {},
    "colab_type": "code",
    "id": "7smCQOVt4LNg"
   },
   "outputs": [],
   "source": [
    "# root경로에 train 데이터를 다운 받습니다. 이 때 조건은 transform 조건에 따라 Tensor 타입과 Normalize가 된 상태로 받습니다.\n",
    "training_dataset = datasets.FashionMNIST(root = './data', train=True, download=True, transform=transform)\n",
    "validation_dataset = datasets.FashionMNIST(root = './data', train=False, download=True, transform=transform)"
   ]
  },
  {
   "cell_type": "code",
   "execution_count": 0,
   "metadata": {
    "colab": {},
    "colab_type": "code",
    "id": "MRytOt_a4nHM"
   },
   "outputs": [],
   "source": [
    "training_loader = torch.utils.data.DataLoader(dataset=training_dataset, batch_size=100, shuffle= True)\n",
    "validation_loader = torch.utils.data.DataLoader(dataset=validation_dataset, batch_size=100, shuffle=False)"
   ]
  },
  {
   "cell_type": "code",
   "execution_count": 7,
   "metadata": {
    "colab": {
     "base_uri": "https://localhost:8080/",
     "height": 34
    },
    "colab_type": "code",
    "id": "lbJSDayM8HBY",
    "outputId": "54e4bae6-a0c2-49d1-de6e-524f2641b494"
   },
   "outputs": [
    {
     "name": "stdout",
     "output_type": "stream",
     "text": [
      "torch.Size([100, 1, 28, 28])\n"
     ]
    }
   ],
   "source": [
    "# shape확인 (디버깅 용도)\n",
    "dataiter = iter(training_loader)\n",
    "images, labels = dataiter.next()\n",
    "print(images.shape)"
   ]
  },
  {
   "cell_type": "code",
   "execution_count": 46,
   "metadata": {
    "colab": {
     "base_uri": "https://localhost:8080/",
     "height": 52
    },
    "colab_type": "code",
    "id": "-Y_r5OAV8KJr",
    "outputId": "1fb7cd09-6eb0-4839-87e9-acdc12d0f224"
   },
   "outputs": [
    {
     "name": "stdout",
     "output_type": "stream",
     "text": [
      "torch.Size([100, 20, 12, 12])\n",
      "torch.Size([100, 50, 4, 4])\n"
     ]
    }
   ],
   "source": [
    "# shape확인 (디버깅 용도)\n",
    "x = F.relu(nn.Conv2d(1, 20, 5)(images))\n",
    "x = F.max_pool2d(x, 2, 2)\n",
    "print(x.shape)\n",
    "x = F.relu(nn.Conv2d(20, 50, 5)(x))\n",
    "x = F.max_pool2d(x, 2, 2)\n",
    "print(x.shape)"
   ]
  },
  {
   "cell_type": "code",
   "execution_count": 0,
   "metadata": {
    "colab": {},
    "colab_type": "code",
    "id": "RoawvQiB5VBW"
   },
   "outputs": [],
   "source": [
    "class LeNet(nn.Module):\n",
    "    \n",
    "    def __init__(self):\n",
    "        super().__init__()\n",
    "        self.conv1 = nn.Conv2d(1, 20, 5) # (입력 채널, 출력 채널, 필터)\n",
    "        self.conv2 = nn.Conv2d(20, 50, 5)\n",
    "        self.fc1 = nn.Linear(4*4*50, 500)\n",
    "        self.fc2 = nn.Linear(500, 10)\n",
    "        self.dropout = nn.Dropout(0.5)\n",
    "        self.bn1 = nn.BatchNorm2d(20)\n",
    "        self.bn2 = nn.BatchNorm2d(50)\n",
    "        self.bn3 = nn.BatchNorm1d(500)\n",
    "        \n",
    "        \n",
    "    def forward(self, x):\n",
    "        x = F.relu(self.conv1(x))\n",
    "        x = F.max_pool2d(x, 2, 2)\n",
    "        x = self.bn1(x)\n",
    "        x = self.dropout(x)\n",
    "        x = F.relu(self.conv2(x))\n",
    "        x = F.max_pool2d(x, 2, 2)\n",
    "        x = self.bn2(x)\n",
    "        x = self.dropout(x)\n",
    "        x = x.view(-1, 4*4*50)\n",
    "        x = F.relu(self.fc1(x))\n",
    "        x = self.bn3(x)\n",
    "        x = self.dropout(x)        \n",
    "        x = self.fc2(x)\n",
    "        return x\n",
    "        "
   ]
  },
  {
   "cell_type": "code",
   "execution_count": 48,
   "metadata": {
    "colab": {
     "base_uri": "https://localhost:8080/",
     "height": 193
    },
    "colab_type": "code",
    "id": "_gGBwx3r_NIS",
    "outputId": "952d2568-db31-4808-e5e8-19e9677419d7"
   },
   "outputs": [
    {
     "name": "stdout",
     "output_type": "stream",
     "text": [
      "LeNet(\n",
      "  (conv1): Conv2d(1, 20, kernel_size=(5, 5), stride=(1, 1))\n",
      "  (conv2): Conv2d(20, 50, kernel_size=(5, 5), stride=(1, 1))\n",
      "  (fc1): Linear(in_features=800, out_features=500, bias=True)\n",
      "  (fc2): Linear(in_features=500, out_features=10, bias=True)\n",
      "  (dropout): Dropout(p=0.5)\n",
      "  (bn1): BatchNorm2d(20, eps=1e-05, momentum=0.1, affine=True, track_running_stats=True)\n",
      "  (bn2): BatchNorm2d(50, eps=1e-05, momentum=0.1, affine=True, track_running_stats=True)\n",
      "  (bn3): BatchNorm1d(500, eps=1e-05, momentum=0.1, affine=True, track_running_stats=True)\n",
      ")\n"
     ]
    }
   ],
   "source": [
    "model = LeNet().to(device)\n",
    "print(model)"
   ]
  },
  {
   "cell_type": "code",
   "execution_count": 0,
   "metadata": {
    "colab": {},
    "colab_type": "code",
    "id": "IE7E8y4K_YzW"
   },
   "outputs": [],
   "source": [
    "loss_func = nn.CrossEntropyLoss()"
   ]
  },
  {
   "cell_type": "code",
   "execution_count": 0,
   "metadata": {
    "colab": {},
    "colab_type": "code",
    "id": "8iCAQCUZDx5e"
   },
   "outputs": [],
   "source": [
    "optimizer = optim.Adam(model.parameters(), lr = 0.001)"
   ]
  },
  {
   "cell_type": "code",
   "execution_count": 0,
   "metadata": {
    "colab": {},
    "colab_type": "code",
    "id": "OcUIkadJD4fu"
   },
   "outputs": [],
   "source": [
    "epochs = 20\n",
    "# 학습 데이터의 loss를 저장\n",
    "running_loss_history = []\n",
    "# 학습 데이터의 accuracy를 저장\n",
    "running_corrects_history = []\n",
    "# 평가 데이터의 loss를 저장\n",
    "val_running_loss_history = []\n",
    "# 평가 데이터의 accuracy를 저장\n",
    "val_running_corrects_history = []"
   ]
  },
  {
   "cell_type": "code",
   "execution_count": 52,
   "metadata": {
    "colab": {
     "base_uri": "https://localhost:8080/",
     "height": 1000
    },
    "colab_type": "code",
    "id": "x65uFDDiD8CY",
    "outputId": "a357e59f-391b-4cdb-f665-b3e075aba8a2"
   },
   "outputs": [
    {
     "name": "stderr",
     "output_type": "stream",
     "text": [
      "\n",
      "\n",
      "\n",
      "  0%|          | 0/20 [00:00<?, ?it/s]\u001b[A\u001b[A\u001b[A\n",
      "\n",
      "\n",
      "  5%|▌         | 1/20 [00:11<03:40, 11.62s/it]\u001b[A\u001b[A\u001b[A"
     ]
    },
    {
     "name": "stdout",
     "output_type": "stream",
     "text": [
      "training loss : 0.553966, acc : 79.000000, validation loss : 0.455683, acc : 83.000000\n"
     ]
    },
    {
     "name": "stderr",
     "output_type": "stream",
     "text": [
      "\n",
      "\n",
      "\n",
      " 10%|█         | 2/20 [00:22<03:27, 11.51s/it]\u001b[A\u001b[A\u001b[A"
     ]
    },
    {
     "name": "stdout",
     "output_type": "stream",
     "text": [
      "training loss : 0.415525, acc : 84.000000, validation loss : 0.433738, acc : 84.000000\n"
     ]
    },
    {
     "name": "stderr",
     "output_type": "stream",
     "text": [
      "\n",
      "\n",
      "\n",
      " 15%|█▌        | 3/20 [00:34<03:14, 11.45s/it]\u001b[A\u001b[A\u001b[A"
     ]
    },
    {
     "name": "stdout",
     "output_type": "stream",
     "text": [
      "training loss : 0.376946, acc : 86.000000, validation loss : 0.392344, acc : 85.000000\n"
     ]
    },
    {
     "name": "stderr",
     "output_type": "stream",
     "text": [
      "\n",
      "\n",
      "\n",
      " 20%|██        | 4/20 [00:45<03:02, 11.43s/it]\u001b[A\u001b[A\u001b[A"
     ]
    },
    {
     "name": "stdout",
     "output_type": "stream",
     "text": [
      "training loss : 0.357682, acc : 86.000000, validation loss : 0.376337, acc : 86.000000\n"
     ]
    },
    {
     "name": "stderr",
     "output_type": "stream",
     "text": [
      "\n",
      "\n",
      "\n",
      " 25%|██▌       | 5/20 [00:56<02:50, 11.38s/it]\u001b[A\u001b[A\u001b[A"
     ]
    },
    {
     "name": "stdout",
     "output_type": "stream",
     "text": [
      "training loss : 0.345590, acc : 87.000000, validation loss : 0.383547, acc : 85.000000\n"
     ]
    },
    {
     "name": "stderr",
     "output_type": "stream",
     "text": [
      "\n",
      "\n",
      "\n",
      " 30%|███       | 6/20 [01:08<02:39, 11.37s/it]\u001b[A\u001b[A\u001b[A"
     ]
    },
    {
     "name": "stdout",
     "output_type": "stream",
     "text": [
      "training loss : 0.333398, acc : 87.000000, validation loss : 0.360700, acc : 87.000000\n"
     ]
    },
    {
     "name": "stderr",
     "output_type": "stream",
     "text": [
      "\n",
      "\n",
      "\n",
      " 35%|███▌      | 7/20 [01:19<02:27, 11.35s/it]\u001b[A\u001b[A\u001b[A"
     ]
    },
    {
     "name": "stdout",
     "output_type": "stream",
     "text": [
      "training loss : 0.327142, acc : 87.000000, validation loss : 0.368794, acc : 86.000000\n"
     ]
    },
    {
     "name": "stderr",
     "output_type": "stream",
     "text": [
      "\n",
      "\n",
      "\n",
      " 40%|████      | 8/20 [01:31<02:17, 11.44s/it]\u001b[A\u001b[A\u001b[A"
     ]
    },
    {
     "name": "stdout",
     "output_type": "stream",
     "text": [
      "training loss : 0.317639, acc : 88.000000, validation loss : 0.359588, acc : 86.000000\n"
     ]
    },
    {
     "name": "stderr",
     "output_type": "stream",
     "text": [
      "\n",
      "\n",
      "\n",
      " 45%|████▌     | 9/20 [01:42<02:05, 11.42s/it]\u001b[A\u001b[A\u001b[A"
     ]
    },
    {
     "name": "stdout",
     "output_type": "stream",
     "text": [
      "training loss : 0.311847, acc : 88.000000, validation loss : 0.340023, acc : 87.000000\n"
     ]
    },
    {
     "name": "stderr",
     "output_type": "stream",
     "text": [
      "\n",
      "\n",
      "\n",
      " 50%|█████     | 10/20 [01:53<01:53, 11.40s/it]\u001b[A\u001b[A\u001b[A"
     ]
    },
    {
     "name": "stdout",
     "output_type": "stream",
     "text": [
      "training loss : 0.304630, acc : 88.000000, validation loss : 0.340884, acc : 87.000000\n"
     ]
    },
    {
     "name": "stderr",
     "output_type": "stream",
     "text": [
      "\n",
      "\n",
      "\n",
      " 55%|█████▌    | 11/20 [02:05<01:43, 11.48s/it]\u001b[A\u001b[A\u001b[A"
     ]
    },
    {
     "name": "stdout",
     "output_type": "stream",
     "text": [
      "training loss : 0.303362, acc : 88.000000, validation loss : 0.337168, acc : 87.000000\n"
     ]
    },
    {
     "name": "stderr",
     "output_type": "stream",
     "text": [
      "\n",
      "\n",
      "\n",
      " 60%|██████    | 12/20 [02:16<01:31, 11.45s/it]\u001b[A\u001b[A\u001b[A"
     ]
    },
    {
     "name": "stdout",
     "output_type": "stream",
     "text": [
      "training loss : 0.296985, acc : 89.000000, validation loss : 0.326767, acc : 88.000000\n"
     ]
    },
    {
     "name": "stderr",
     "output_type": "stream",
     "text": [
      "\n",
      "\n",
      "\n",
      " 65%|██████▌   | 13/20 [02:28<01:19, 11.42s/it]\u001b[A\u001b[A\u001b[A"
     ]
    },
    {
     "name": "stdout",
     "output_type": "stream",
     "text": [
      "training loss : 0.291332, acc : 89.000000, validation loss : 0.341927, acc : 87.000000\n"
     ]
    },
    {
     "name": "stderr",
     "output_type": "stream",
     "text": [
      "\n",
      "\n",
      "\n",
      " 70%|███████   | 14/20 [02:39<01:08, 11.39s/it]\u001b[A\u001b[A\u001b[A"
     ]
    },
    {
     "name": "stdout",
     "output_type": "stream",
     "text": [
      "training loss : 0.291190, acc : 89.000000, validation loss : 0.327864, acc : 88.000000\n"
     ]
    },
    {
     "name": "stderr",
     "output_type": "stream",
     "text": [
      "\n",
      "\n",
      "\n",
      " 75%|███████▌  | 15/20 [02:51<00:57, 11.45s/it]\u001b[A\u001b[A\u001b[A"
     ]
    },
    {
     "name": "stdout",
     "output_type": "stream",
     "text": [
      "training loss : 0.285423, acc : 89.000000, validation loss : 0.317441, acc : 88.000000\n"
     ]
    },
    {
     "name": "stderr",
     "output_type": "stream",
     "text": [
      "\n",
      "\n",
      "\n",
      " 80%|████████  | 16/20 [03:02<00:45, 11.40s/it]\u001b[A\u001b[A\u001b[A"
     ]
    },
    {
     "name": "stdout",
     "output_type": "stream",
     "text": [
      "training loss : 0.286080, acc : 89.000000, validation loss : 0.329730, acc : 88.000000\n"
     ]
    },
    {
     "name": "stderr",
     "output_type": "stream",
     "text": [
      "\n",
      "\n",
      "\n",
      " 85%|████████▌ | 17/20 [03:13<00:34, 11.36s/it]\u001b[A\u001b[A\u001b[A"
     ]
    },
    {
     "name": "stdout",
     "output_type": "stream",
     "text": [
      "training loss : 0.280773, acc : 89.000000, validation loss : 0.330931, acc : 88.000000\n"
     ]
    },
    {
     "name": "stderr",
     "output_type": "stream",
     "text": [
      "\n",
      "\n",
      "\n",
      " 90%|█████████ | 18/20 [03:25<00:22, 11.35s/it]\u001b[A\u001b[A\u001b[A"
     ]
    },
    {
     "name": "stdout",
     "output_type": "stream",
     "text": [
      "training loss : 0.279136, acc : 89.000000, validation loss : 0.326911, acc : 88.000000\n"
     ]
    },
    {
     "name": "stderr",
     "output_type": "stream",
     "text": [
      "\n",
      "\n",
      "\n",
      " 95%|█████████▌| 19/20 [03:36<00:11, 11.32s/it]\u001b[A\u001b[A\u001b[A"
     ]
    },
    {
     "name": "stdout",
     "output_type": "stream",
     "text": [
      "training loss : 0.274486, acc : 89.000000, validation loss : 0.320694, acc : 88.000000\n"
     ]
    },
    {
     "name": "stderr",
     "output_type": "stream",
     "text": [
      "\n",
      "\n",
      "\n",
      "100%|██████████| 20/20 [03:47<00:00, 11.38s/it]\u001b[A\u001b[A\u001b[A\n",
      "\n",
      "\n",
      "\u001b[A\u001b[A\u001b[A"
     ]
    },
    {
     "name": "stdout",
     "output_type": "stream",
     "text": [
      "training loss : 0.273703, acc : 89.000000, validation loss : 0.321750, acc : 88.000000\n"
     ]
    }
   ],
   "source": [
    "for epoch in tqdm(range(epochs)):\n",
    "    running_loss, val_running_loss = 0.0, 0.0\n",
    "    running_corrects, val_running_corrects = 0.0, 0.0\n",
    "    \n",
    "    # 학습 데이터를 batch 단위로 가져와서 학습시킵니다.\n",
    "    for inputs, labels in training_loader:\n",
    "        inputs = inputs.to(device)\n",
    "        labels = labels.to(device)\n",
    "        \n",
    "        # feedforward\n",
    "        outputs = model(inputs)\n",
    "        # loss를 계산합니다.\n",
    "        loss = loss_func(outputs, labels)\n",
    "        # gradient 초기화\n",
    "        optimizer.zero_grad()\n",
    "        # backpropagation\n",
    "        loss.backward()\n",
    "        # weight update\n",
    "        optimizer.step()\n",
    "        \n",
    "        # output의 각 이미지 별로 class가 가장 큰 값을 가져옵니다.\n",
    "        _, preds = torch.max(outputs, 1)\n",
    "        \n",
    "        # loss를 더해줍니다.\n",
    "        running_loss += loss.item()\n",
    "        # 분류가 잘 된 갯수를 더해줍니다.\n",
    "        running_corrects += torch.sum(preds == labels.data)\n",
    "    \n",
    "    # epoch의 loss를 계산합니다.\n",
    "    epoch_loss = running_loss/len(training_loader)\n",
    "    running_loss_history.append(epoch_loss)\n",
    "    \n",
    "    # epoch의 accuracy를 계산합니다.\n",
    "    epoch_acc = running_corrects/len(training_loader)\n",
    "    running_corrects_history.append(epoch_acc)\n",
    "    \n",
    "    # 평가 데이터를 feedforward할 때에는 gradient가 필요없습니다.\n",
    "    with torch.no_grad():\n",
    "        for val_inputs, val_labels in validation_loader:\n",
    "            val_inputs = val_inputs.to(device)\n",
    "            val_labels = val_labels.to(device)            \n",
    "            \n",
    "            # training 과정과 유사하나 학습이 필요없으므로 backprob하고 weight 업데이트 하는 과정이 없습니다.\n",
    "            val_outputs = model(val_inputs)\n",
    "            val_loss = loss_func(val_outputs, val_labels)\n",
    "            \n",
    "            _, val_preds = torch.max(val_outputs, 1)\n",
    "            \n",
    "            val_running_loss += val_loss.item()\n",
    "            val_running_corrects += torch.sum(val_preds==val_labels.data)\n",
    "    \n",
    "    # 평가 데이터의 loss와 accuracy를 저장해줍니다.\n",
    "    val_epoch_loss = val_running_loss / len(validation_loader)\n",
    "    val_running_loss_history.append(val_epoch_loss)\n",
    "    \n",
    "    val_epoch_acc = val_running_corrects / len(validation_loader)\n",
    "    val_running_corrects_history.append(val_epoch_acc)\n",
    "    \n",
    "    # 매 epoch의 학습과 평가가 끝났으면 결과를 출력해줍니다.\n",
    "    print('training loss : {:4f}, acc : {:4f}, validation loss : {:4f}, acc : {:4f}'.format(\n",
    "        epoch_loss, epoch_acc, val_epoch_loss, val_epoch_acc))"
   ]
  },
  {
   "cell_type": "code",
   "execution_count": 55,
   "metadata": {
    "colab": {
     "base_uri": "https://localhost:8080/",
     "height": 286
    },
    "colab_type": "code",
    "id": "z3Y05Jz8FV8k",
    "outputId": "51c2e57a-586d-4d5c-b26d-77f6d64ded89"
   },
   "outputs": [
    {
     "data": {
      "text/plain": [
       "<matplotlib.legend.Legend at 0x7f3660e6f9e8>"
      ]
     },
     "execution_count": 55,
     "metadata": {
      "tags": []
     },
     "output_type": "execute_result"
    },
    {
     "data": {
      "image/png": "[encoded data removed]",
      "text/plain": [
       "<Figure size 432x288 with 1 Axes>"
      ]
     },
     "metadata": {
      "tags": []
     },
     "output_type": "display_data"
    }
   ],
   "source": [
    "plt.plot(running_loss_history, label='training loss')\n",
    "plt.plot(val_running_loss_history, label='validation loss')\n",
    "plt.legend()"
   ]
  },
  {
   "cell_type": "code",
   "execution_count": 56,
   "metadata": {
    "colab": {
     "base_uri": "https://localhost:8080/",
     "height": 286
    },
    "colab_type": "code",
    "id": "Jm449Fn6HryP",
    "outputId": "391850dd-3c10-4c03-ceb0-67ff93884548"
   },
   "outputs": [
    {
     "data": {
      "text/plain": [
       "<matplotlib.legend.Legend at 0x7f3660dc1278>"
      ]
     },
     "execution_count": 56,
     "metadata": {
      "tags": []
     },
     "output_type": "execute_result"
    },
    {
     "data": {
      "image/png": "[encoded data removed]",
      "text/plain": [
       "<Figure size 432x288 with 1 Axes>"
      ]
     },
     "metadata": {
      "tags": []
     },
     "output_type": "display_data"
    }
   ],
   "source": [
    "plt.plot(running_corrects_history, label='training acc')\n",
    "plt.plot(val_running_corrects_history, label='validation acc')\n",
    "plt.legend()"
   ]
  },
  {
   "cell_type": "code",
   "execution_count": 0,
   "metadata": {
    "colab": {},
    "colab_type": "code",
    "id": "-lv83AEuHtkA"
   },
   "outputs": [],
   "source": [
    "nn.BatchNorm2d"
   ]
  }
 ],
 "metadata": {
  "accelerator": "GPU",
  "colab": {
   "collapsed_sections": [],
   "name": "PyTorch Tensor Basic Usage.ipynb",
   "provenance": [],
   "version": "0.3.2"
  },
  "kernelspec": {
   "display_name": "Python 3",
   "language": "python",
   "name": "python3"
  },
  "language_info": {
   "codemirror_mode": {
    "name": "ipython",
    "version": 3
   },
   "file_extension": ".py",
   "mimetype": "text/x-python",
   "name": "python",
   "nbconvert_exporter": "python",
   "pygments_lexer": "ipython3",
   "version": "3.5.5"
  },
  "latex_envs": {
   "LaTeX_envs_menu_present": true,
   "autoclose": false,
   "autocomplete": true,
   "bibliofile": "biblio.bib",
   "cite_by": "apalike",
   "current_citInitial": 1,
   "eqLabelWithNumbers": true,
   "eqNumInitial": 1,
   "hotkeys": {
    "equation": "Ctrl-E",
    "itemize": "Ctrl-I"
   },
   "labels_anchors": false,
   "latex_user_defs": false,
   "report_style_numbering": false,
   "user_envs_cfg": false
  },
  "varInspector": {
   "cols": {
    "lenName": 16,
    "lenType": 16,
    "lenVar": 40
   },
   "kernels_config": {
    "python": {
     "delete_cmd_postfix": "",
     "delete_cmd_prefix": "del ",
     "library": "var_list.py",
     "varRefreshCmd": "print(var_dic_list())"
    },
    "r": {
     "delete_cmd_postfix": ") ",
     "delete_cmd_prefix": "rm(",
     "library": "var_list.r",
     "varRefreshCmd": "cat(var_dic_list()) "
    }
   },
   "types_to_exclude": [
    "module",
    "function",
    "builtin_function_or_method",
    "instance",
    "_Feature"
   ],
   "window_display": false
  }
 },
 "nbformat": 4,
 "nbformat_minor": 1
}
